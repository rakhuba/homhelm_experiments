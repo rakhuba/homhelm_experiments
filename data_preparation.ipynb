{
 "cells": [
  {
   "cell_type": "markdown",
   "metadata": {},
   "source": [
    "# This is supplementary material to the paper on [multiscale QTT]()\n",
    "\n",
    "In this notebook we prepare data for plotting. Plottings themselves are presented in [here (diffusion equation)](plots_diffusion.ipynb) and [here (the Helmholtz equation)](plots_helmholtz.ipynb)"
   ]
  },
  {
   "cell_type": "markdown",
   "metadata": {},
   "source": [
    "## Diffusion equation\n",
    "First we consider the diffusion equation in one space dimension \n",
    "with homogeneous Dirichlet boundary conditions \n",
    "$$ \n",
    "\\left( a u'\\right)' = 1, \\quad u(1) = u(0) = 0,\n",
    "$$\n",
    "\n",
    "$$a(x) = a_0(x) a_1\\left(\\frac{x}{\\delta}\\right),$$\n",
    "\n",
    "where $a_0(x) = 1 + x$, $a_1(y) = \\frac{2}{3} \\left(1 + \\cos^2\\left(2 \\pi y\\right)\\right)$"
   ]
  },
  {
   "cell_type": "code",
   "execution_count": 2,
   "metadata": {
    "collapsed": false
   },
   "outputs": [
    {
     "name": "stderr",
     "output_type": "stream",
     "text": [
      "Vendor:  Continuum Analytics, Inc.\n",
      "Package: mkl\n",
      "Message: trial mode expires in 28 days\n"
     ]
    }
   ],
   "source": [
    "%matplotlib inline\n",
    "import matplotlib.pyplot as plt\n",
    "import scipy.sparse.linalg\n",
    "import scipy as sp\n",
    "import scipy.interpolate\n",
    "import math\n",
    "import numpy as np\n",
    "import tt"
   ]
  },
  {
   "cell_type": "code",
   "execution_count": 3,
   "metadata": {
    "collapsed": false
   },
   "outputs": [],
   "source": [
    "def afun(x, eps):\n",
    "    return (1 + np.sqrt(x)) * 2/3 * (1 + np.cos(2 * math.pi * (x/eps)) ** 2)\n",
    "\n",
    "def rhs_fun(x):\n",
    "    return np.ones(x.shape)\n",
    "\n",
    "def derivative(arr, fun, h):\n",
    "    N = arr.shape[0]\n",
    "    res = np.zeros(N)\n",
    "    res[1:-1] = (arr[2:] - arr[:-2])/(2*h)\n",
    "    res[0] = (arr[1] - 0.)/(2*h)\n",
    "    res[-1] = (0. - arr[-2])/(2*h)\n",
    "    mesh = np.linspace(0, 1, N + 2)[1:-1]\n",
    "    return res #* fun(mesh)\n",
    "\n",
    "def gen_full_matrix(d, eps, afun, a=0.0, b=1.0): \n",
    "    N = 2 ** d - 1\n",
    "    t = np.arange(N)\n",
    "    e = np.ones(N)\n",
    "    h = (b - a)/(N + 1)\n",
    "    cf = (t + 0.5 * e) * h\n",
    "    am = afun(cf, eps)\n",
    "    cf_plus = (t + 1.5 * e) * h\n",
    "    ap = afun(cf_plus, eps)\n",
    "    dg = am + ap\n",
    "    dg = np.concatenate(([h**2], dg))\n",
    "    am = np.concatenate((am, [0]))\n",
    "    ap = np.concatenate(([0, 0], ap[:-1]))\n",
    "    mat = scipy.sparse.spdiags([-am, -ap, dg], [-1, 1, 0], N+1, N+1, format='csr')\n",
    "    mat = mat/h**2\n",
    "    return mat"
   ]
  },
  {
   "cell_type": "markdown",
   "metadata": {},
   "source": [
    "### Massive experiments"
   ]
  },
  {
   "cell_type": "code",
   "execution_count": null,
   "metadata": {
    "collapsed": false,
    "scrolled": true
   },
   "outputs": [],
   "source": [
    "dall = [7, 8, 9, 10, 11, 12, 13, 14, 15, 16, 17, 18, 19, 20]\n",
    "eps_all = 10 ** (-np.linspace(1, 5, 53)) #[1e-0, 1e-1, 1e-2, 1e-3, 1e-4, 1e-5]\n",
    "tau_all = 10 ** (-np.linspace(1, 11, 101))\n",
    "\n",
    "res = {}\n",
    "for eps in eps_all:\n",
    "    print eps\n",
    "    dims = []\n",
    "    sols = []\n",
    "    sols_interp = []\n",
    "    h_all = []\n",
    "    meshes = []\n",
    "    matrs = []\n",
    "\n",
    "    for d in dall:\n",
    "        i = d - dall[0]\n",
    "        dims.append(d)\n",
    "        N = 2 ** d\n",
    "        h = 1.0/(N)\n",
    "        h_all.append(h)\n",
    "        mat = gen_full_matrix(d, eps, afun, a=0.0, b=1.0)\n",
    "        meshes.append(np.linspace(0, 1, N+1))\n",
    "        rhs = rhs_fun(meshes[i][:-1])\n",
    "        result = np.zeros(N + 1)\n",
    "        result[:-1] = sp.sparse.linalg.spsolve(mat, rhs)\n",
    "        sols.append(result)\n",
    "\n",
    "    for d in dall[:-2]:\n",
    "        i = d - dall[0]\n",
    "        h = h_all[i+2]\n",
    "        solh = sols[i+2]\n",
    "        sol2h = np.zeros(sols[i+2].shape)\n",
    "        sol2h[::2] = sols[i+1]\n",
    "        sol2h[1::2] = (sols[i+1][:-1] + sols[i+1][1:])/2\n",
    "        sol_extrap = solh + (solh - sol2h) / (2.0**2 + 1)\n",
    "        kh = (sols[i+2][1:] - sols[i+2][:-1]) / h\n",
    "        kh_extrap = (sol_extrap[1:] - sol_extrap[:-1])/h\n",
    "        \n",
    "        for tau in tau_all:\n",
    "            solh_qtt_full = np.zeros(len(solh))\n",
    "            solh_qtt = tt.tensor(solh[:-1].reshape(2*np.ones(d+2), order='F'), tau)\n",
    "            solh_qtt_full[:-1] = solh_qtt.full().flatten('F')\n",
    "            kh_qtt_full = (solh_qtt_full[1:] - solh_qtt_full[:-1]) / h\n",
    "            res[(d+2, tau, eps, 'memory')] = len(solh_qtt.core)\n",
    "            res[(d+2, tau, eps, 'h1_qtt')] = np.linalg.norm(kh_qtt_full - kh_extrap) * np.sqrt(h)\n",
    "            res[(d+2, tau, eps, 'h1')] = np.linalg.norm(kh - kh_extrap) * np.sqrt(h) \n",
    "            res[(d+2, tau, eps, 'l2')] = np.linalg.norm(solh - sol_extrap) * np.sqrt(h) \n",
    "                                   \n",
    "            \n",
    "np.savez('computations_diffusion', res=res, dall=dall[2:], eps_all=eps_all, tau_all=tau_all)"
   ]
  },
  {
   "cell_type": "markdown",
   "metadata": {},
   "source": [
    "## 1D Helmholtz \n",
    "\n",
    "As the second example, we consider  the one-dimensional Helmholtz problem with radiation boundary conditions:\n",
    "$$-u''  - k^2 u = 1, \\quad u(0) = 0, \\quad u'(1) - i k u(1) = 0.$$"
   ]
  },
  {
   "cell_type": "code",
   "execution_count": 7,
   "metadata": {
    "collapsed": false
   },
   "outputs": [],
   "source": [
    "#Generate the tridiagonal sparse matrix\n",
    "import numpy as np\n",
    "import scipy.linalg\n",
    "from scipy import interpolate\n",
    "\n",
    "def gen_helmholtz_matrix(d, K, a=0.0, b=1.0):\n",
    "    N = 2 ** d\n",
    "    t = np.linspace(a, b, N+1) #Left point ommited\n",
    "    h = 1. / N\n",
    "    ap = -np.ones(N) / h ** 2 - K**2 / 6\n",
    "    am = -np.ones(N) / h ** 2 - K**2 / 6\n",
    "    dg = 2 * np.ones(N, dtype=np.complex128)/h**2 - (K**2)*2./3\n",
    "    dg[0] = 2./h**2 - (K**2) * 1./3 \n",
    "    dg[N-1] = 1.0 / h**2 - (K**2)/3 - 1j*K / h  #Radiation b.c.\n",
    "    mat = scipy.sparse.spdiags([am, ap, dg], [1, -1, 0], N, N).tocsc()\n",
    "    return mat\n",
    "\n",
    "\n",
    "def rhs_fun(x):\n",
    "    res = np.zeros(x.shape, dtype=np.complex128)\n",
    "    res[0] = 1.\n",
    "    return res #np.ones(x.shape, dtype=np.complex128)\n",
    "\n",
    "def solution_fun(x, k):\n",
    "    return (1j/k) * (1.-np.exp(1j*k)/2) * np.exp(1j*k*x) - 1j*(np.exp(1j*k)/(2*k)) * np.exp(-1j*k*x)\n",
    "\n",
    "def trig_squared_integral(c1, c2, c3, x, k): #integrates (c1 cos kx + c2 sin kx + c3)^2\n",
    "    return c1**2 * (x/2 + np.sin(2*k*x)/(4*k)) + c2**2 * (x/2 - np.sin(2*k*x)/(4*k)) + c3**2*x - \\\n",
    "           c1*c2*np.cos(2*k*x)/(2*k) + 2*c1*c3*np.sin(k*x)/k - 2*c2*c3*np.cos(k*x)/k \n",
    "    \n",
    "def h1_norm_func2(kh, h, k, N):\n",
    "    c1 = 1.0j/k * (1 - np.exp(1j*k)/2)\n",
    "    c2 = -1.0j*np.exp(1j*k)/(2*k)\n",
    "    res = trig_squared_integral(c1.real+c2.real, -c1.imag+c2.imag, -kh.real, h*np.arange(1, N), k) - \\\n",
    "          trig_squared_integral(c1.real+c2.real, -c1.imag+c2.imag, -kh.real, h*np.arange(0, N-1), k) + \\\n",
    "          trig_squared_integral(c1.imag+c2.imag, c1.real-c2.real, -kh.imag, h*np.arange(1, N), k) - \\\n",
    "          trig_squared_integral(c1.imag+c2.imag, c1.real-c2.real, -kh.imag, h*np.arange(0, N-1), k)\n",
    "    return np.sqrt(res.sum())"
   ]
  },
  {
   "cell_type": "markdown",
   "metadata": {},
   "source": [
    "### Massive experiments"
   ]
  },
  {
   "cell_type": "code",
   "execution_count": 10,
   "metadata": {
    "collapsed": false
   },
   "outputs": [
    {
     "name": "stdout",
     "output_type": "stream",
     "text": [
      "k = 1.0\n",
      "k = 1.21152765863\n",
      "k = 1.46779926762\n",
      "k = 1.77827941004\n",
      "k = 2.15443469003\n",
      "k = 2.61015721568\n",
      "k = 3.16227766017\n",
      "k = 3.83118684956\n",
      "k = 4.64158883361\n",
      "k = 5.6234132519\n",
      "k = 6.81292069058\n",
      "k = 8.25404185268\n",
      "k = 10.0\n",
      "k = 12.1152765863\n",
      "k = 14.6779926762\n",
      "k = 17.7827941004\n",
      "k = 21.5443469003\n",
      "k = 26.1015721568\n",
      "k = 31.6227766017\n",
      "k = 38.3118684956\n",
      "k = 46.4158883361\n",
      "k = 56.234132519\n",
      "k = 68.1292069058\n",
      "k = 82.5404185268\n",
      "k = 100.0\n",
      "k = 121.152765863\n",
      "k = 146.779926762\n",
      "k = 177.827941004\n",
      "k = 215.443469003\n",
      "k = 261.015721568\n",
      "k = 316.227766017\n",
      "k = 383.118684956\n",
      "k = 464.158883361\n",
      "k = 562.34132519\n",
      "k = 681.292069058\n",
      "k = 825.404185268\n",
      "k = 1000.0\n",
      "k = 1211.52765863\n",
      "k = 1467.79926762\n",
      "k = 1778.27941004\n",
      "k = 2154.43469003\n",
      "k = 2610.15721568\n",
      "k = 3162.27766017\n",
      "k = 3831.18684956\n",
      "k = 4641.58883361\n",
      "k = 5623.4132519\n",
      "k = 6812.92069058\n",
      "k = 8254.04185268\n",
      "k = 10000.0\n"
     ]
    },
    {
     "name": "stderr",
     "output_type": "stream",
     "text": [
      "/Applications/anaconda/lib/python2.7/site-packages/ipykernel/__main__.py:39: DeprecationWarning: using a non-integer number instead of an integer will result in an error in the future\n"
     ]
    }
   ],
   "source": [
    "dall = [7, 8, 9, 10, 11, 12, 13, 14, 15, 16, 17, 18, 19, 20]\n",
    "K_all = 10 ** (np.linspace(0, 4, 49)) #[1., 5., 10., 50., 100., 500.,  1000., 5000., 10000.]\n",
    "tau_all = 10 ** (-np.linspace(1, 11, 101))\n",
    "\n",
    "res = {}\n",
    "for K in K_all:\n",
    "    print 'k =', K\n",
    "    dims = []\n",
    "    sols = []\n",
    "    sols_interp = []\n",
    "    h_all = []\n",
    "    meshes = []\n",
    "    matrs = []\n",
    "\n",
    "    for d in dall:\n",
    "        i = d - dall[0]\n",
    "        dims.append(d)\n",
    "        N = 2 ** d\n",
    "        h = 1.0/(N)\n",
    "        h_all.append(h)\n",
    "        mat = gen_helmholtz_matrix(d, K, a=0.0, b=1.0)\n",
    "        meshes.append(np.linspace(0, 1, N+1))\n",
    "        rhs = np.ones(N, dtype=np.complex128)\n",
    "        result = np.zeros(N+1, dtype=np.complex128)\n",
    "        result[1:] = sp.sparse.linalg.spsolve(mat, rhs)\n",
    "        sols.append(result)\n",
    "\n",
    "    for d in dall[:-2]:\n",
    "        i = d - dall[0]\n",
    "        h = h_all[i+2]   \n",
    "        solh = sols[i+2]\n",
    "        sol2h = np.zeros(sols[i+2].shape, dtype=np.complex128)\n",
    "        sol2h[::2] = sols[i+1]\n",
    "        sol2h[1::2] = (sols[i+1][:-1] + sols[i+1][1:])/2\n",
    "        kh = (sols[i+2][1:] - sols[i+2][:-1]) / h\n",
    "        \n",
    "        for tau in tau_all:\n",
    "            solh_qtt_full = np.zeros(len(solh), dtype=np.complex128)\n",
    "            solh_qtt = tt.tensor(solh[1:].reshape(2*np.ones(d+2), order='F'), tau)\n",
    "            solh_qtt_full[1:] = solh_qtt.full().flatten('F')\n",
    "            kh_qtt_full = (solh_qtt_full[1:] - solh_qtt_full[:-1]) / h\n",
    "            res[(d+2, tau, K, 'memory')] = len(solh_qtt.core)\n",
    "            res[(d+2, tau, K, 'h1_qtt')] = h1_norm_func2(kh_qtt_full, h, K, 2**(d+2)+1)\n",
    "            res[(d+2, tau, K, 'h1')] = h1_norm_func2(kh, h, K, 2**(d+2)+1)\n",
    "            #res[(d+2, tau, K, 'l2')] = np.linalg.norm(solh - sol_extrap) * np.sqrt(h) \n",
    "            res[(d+2, tau, K, 'erank')] = solh_qtt.erank\n",
    "                                   \n",
    "            \n",
    "np.savez('computations_helmholtz', res=res, dall=dall[2:], K_all=K_all, tau_all=tau_all)"
   ]
  },
  {
   "cell_type": "code",
   "execution_count": 10,
   "metadata": {
    "collapsed": false
   },
   "outputs": [
    {
     "data": {
      "text/plain": [
       "array([ 0.        ,  0.08333333,  0.16666667,  0.25      ,  0.33333333,\n",
       "        0.41666667,  0.5       ,  0.58333333,  0.66666667,  0.75      ,\n",
       "        0.83333333,  0.91666667,  1.        ,  1.08333333,  1.16666667,\n",
       "        1.25      ,  1.33333333,  1.41666667,  1.5       ,  1.58333333,\n",
       "        1.66666667,  1.75      ,  1.83333333,  1.91666667,  2.        ,\n",
       "        2.08333333,  2.16666667,  2.25      ,  2.33333333,  2.41666667,\n",
       "        2.5       ,  2.58333333,  2.66666667,  2.75      ,  2.83333333,\n",
       "        2.91666667,  3.        ,  3.08333333,  3.16666667,  3.25      ,\n",
       "        3.33333333,  3.41666667,  3.5       ,  3.58333333,  3.66666667,\n",
       "        3.75      ,  3.83333333,  3.91666667,  4.        ])"
      ]
     },
     "execution_count": 10,
     "metadata": {},
     "output_type": "execute_result"
    }
   ],
   "source": [
    "np.linspace(0, 4, 49)"
   ]
  },
  {
   "cell_type": "code",
   "execution_count": 5,
   "metadata": {
    "collapsed": false
   },
   "outputs": [
    {
     "data": {
      "text/plain": [
       "array([ 0. ,  0.1,  0.2,  0.3,  0.4,  0.5,  0.6,  0.7,  0.8,  0.9,  1. ,\n",
       "        1.1,  1.2,  1.3,  1.4,  1.5,  1.6,  1.7,  1.8,  1.9,  2. ,  2.1,\n",
       "        2.2,  2.3,  2.4,  2.5,  2.6,  2.7,  2.8,  2.9,  3. ,  3.1,  3.2,\n",
       "        3.3,  3.4,  3.5,  3.6,  3.7,  3.8,  3.9,  4. ,  4.1,  4.2,  4.3,\n",
       "        4.4,  4.5,  4.6,  4.7,  4.8,  4.9,  5. ])"
      ]
     },
     "execution_count": 5,
     "metadata": {},
     "output_type": "execute_result"
    }
   ],
   "source": [
    "np.linspace(0, 5, 51)"
   ]
  },
  {
   "cell_type": "code",
   "execution_count": 9,
   "metadata": {
    "collapsed": false
   },
   "outputs": [
    {
     "data": {
      "text/plain": [
       "array([ 0.        ,  0.08333333,  0.16666667,  0.25      ,  0.33333333,\n",
       "        0.41666667,  0.5       ,  0.58333333,  0.66666667,  0.75      ,\n",
       "        0.83333333,  0.91666667,  1.        ,  1.08333333,  1.16666667,\n",
       "        1.25      ,  1.33333333,  1.41666667,  1.5       ,  1.58333333,\n",
       "        1.66666667,  1.75      ,  1.83333333,  1.91666667,  2.        ,\n",
       "        2.08333333,  2.16666667,  2.25      ,  2.33333333,  2.41666667,\n",
       "        2.5       ,  2.58333333,  2.66666667,  2.75      ,  2.83333333,\n",
       "        2.91666667,  3.        ,  3.08333333,  3.16666667,  3.25      ,\n",
       "        3.33333333,  3.41666667,  3.5       ,  3.58333333,  3.66666667,\n",
       "        3.75      ,  3.83333333,  3.91666667,  4.        ])"
      ]
     },
     "execution_count": 9,
     "metadata": {},
     "output_type": "execute_result"
    }
   ],
   "source": [
    "np.linspace(0, 4, 49)"
   ]
  },
  {
   "cell_type": "code",
   "execution_count": null,
   "metadata": {
    "collapsed": true
   },
   "outputs": [],
   "source": []
  }
 ],
 "metadata": {
  "kernelspec": {
   "display_name": "Python 2",
   "language": "python",
   "name": "python2"
  },
  "language_info": {
   "codemirror_mode": {
    "name": "ipython",
    "version": 2
   },
   "file_extension": ".py",
   "mimetype": "text/x-python",
   "name": "python",
   "nbconvert_exporter": "python",
   "pygments_lexer": "ipython2",
   "version": "2.7.10"
  }
 },
 "nbformat": 4,
 "nbformat_minor": 0
}
