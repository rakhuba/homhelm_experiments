{
 "cells": [
  {
   "cell_type": "markdown",
   "metadata": {},
   "source": [
    "# This is supplementary matirial to the paper on [multiscale QTT]()"
   ]
  },
  {
   "cell_type": "markdown",
   "metadata": {},
   "source": [
    "## Diffusion equation\n",
    "First we consider the diffusion equation in one space dimension \n",
    "with homogeneous Dirichlet boundary conditions \n",
    "$$ \n",
    "\\left( a u'\\right)' = 1, \\quad u(1) = u(0) = 0,\n",
    "$$\n",
    "\n",
    "$$a(x) = a_0(x) a_1\\left(\\frac{x}{\\delta}\\right),$$\n",
    "\n",
    "where $a_0(x) = 1 + x$, $a_1(y) = \\frac{2}{3} \\left(1 + \\cos^2\\left(2 \\pi y\\right)\\right)$"
   ]
  },
  {
   "cell_type": "code",
   "execution_count": null,
   "metadata": {
    "collapsed": true
   },
   "outputs": [],
   "source": [
    "%matplotlib inline\n",
    "import matplotlib.pyplot as plt\n",
    "import scipy.sparse.linalg\n",
    "import scipy as sp\n",
    "import scipy.interpolate\n",
    "import math\n",
    "import numpy as np\n",
    "import tt"
   ]
  },
  {
   "cell_type": "code",
   "execution_count": null,
   "metadata": {
    "collapsed": false
   },
   "outputs": [],
   "source": [
    "def Kfun(x, eps):\n",
    "    return (1 + np.sqrt(x)) * 2/3 * (1 + np.cos(2 * math.pi * (x/eps)) ** 2)\n",
    "\n",
    "def rhs_fun(x):\n",
    "    return np.ones(x.shape)\n",
    "\n",
    "def derivative(arr, fun, h):\n",
    "    N = arr.shape[0]\n",
    "    res = np.zeros(N)\n",
    "    res[1:-1] = (arr[2:] - arr[:-2])/(2*h)\n",
    "    res[0] = (arr[1] - 0.)/(2*h)\n",
    "    res[-1] = (0. - arr[-2])/(2*h)\n",
    "    mesh = np.linspace(0, 1, N + 2)[1:-1]\n",
    "    return res #* fun(mesh)\n",
    "\n",
    "def gen_full_matrix(d, eps, Kfun, a=0.0, b=1.0): \n",
    "    N = 2 ** d - 1\n",
    "    t = np.arange(N)\n",
    "    e = np.ones(N)\n",
    "    h = (b - a)/(N + 1)\n",
    "    cf = (t + 0.5 * e) * h\n",
    "    am = Kfun(cf, eps)\n",
    "    cf_plus = (t + 1.5 * e) * h\n",
    "    ap = Kfun(cf_plus, eps)\n",
    "    dg = am + ap\n",
    "    dg = np.concatenate(([h**2], dg))\n",
    "    am = np.concatenate((am, [0]))\n",
    "    ap = np.concatenate(([0, 0], ap[:-1]))\n",
    "    mat = scipy.sparse.spdiags([-am, -ap, dg], [-1, 1, 0], N+1, N+1, format='csr')\n",
    "    mat = mat/h**2\n",
    "    return mat"
   ]
  },
  {
   "cell_type": "markdown",
   "metadata": {},
   "source": [
    "### Massive experiments"
   ]
  },
  {
   "cell_type": "code",
   "execution_count": null,
   "metadata": {
    "collapsed": false,
    "scrolled": true
   },
   "outputs": [],
   "source": [
    "dall = [7, 8, 9, 10, 11, 12, 13, 14, 15, 16, 17, 18, 19, 20]\n",
    "eps_all = 10 ** (-np.linspace(1, 5, 53)) #[1e-0, 1e-1, 1e-2, 1e-3, 1e-4, 1e-5]\n",
    "tau_all = 10 ** (-np.linspace(1, 11, 101))\n",
    "\n",
    "res = {}\n",
    "for eps in eps_all:\n",
    "    print eps\n",
    "    dims = []\n",
    "    sols = []\n",
    "    sols_interp = []\n",
    "    h_all = []\n",
    "    meshes = []\n",
    "    matrs = []\n",
    "\n",
    "    for d in dall:\n",
    "        i = d - dall[0]\n",
    "        dims.append(d)\n",
    "        N = 2 ** d\n",
    "        h = 1.0/(N)\n",
    "        h_all.append(h)\n",
    "        mat = gen_full_matrix(d, eps, Kfun, a=0.0, b=1.0)\n",
    "        meshes.append(np.linspace(0, 1, N+1))\n",
    "        rhs = rhs_fun(meshes[i][:-1])\n",
    "        result = np.zeros(N + 1)\n",
    "        result[:-1] = sp.sparse.linalg.spsolve(mat, rhs)\n",
    "        sols.append(result)\n",
    "\n",
    "    for d in dall[:-2]:\n",
    "        i = d - dall[0]\n",
    "        h = h_all[i+2]\n",
    "        solh = sols[i+2]\n",
    "        sol2h = np.zeros(sols[i+2].shape)\n",
    "        sol2h[::2] = sols[i+1]\n",
    "        sol2h[1::2] = (sols[i+1][:-1] + sols[i+1][1:])/2\n",
    "        sol_extrap = solh + (solh - sol2h) / (2.0**2 + 1)\n",
    "        kh = (sols[i+2][1:] - sols[i+2][:-1]) / h\n",
    "        kh_extrap = (sol_extrap[1:] - sol_extrap[:-1])/h\n",
    "        \n",
    "        for tau in tau_all:\n",
    "            solh_qtt_full = np.zeros(len(solh))\n",
    "            solh_qtt = tt.tensor(solh[:-1].reshape(2*np.ones(d+2), order='F'), tau)\n",
    "            solh_qtt_full[:-1] = solh_qtt.full().flatten('F')\n",
    "            kh_qtt_full = (solh_qtt_full[1:] - solh_qtt_full[:-1]) / h\n",
    "            res[(d+2, tau, eps, 'memory')] = len(solh_qtt.core)\n",
    "            res[(d+2, tau, eps, 'h1_qtt')] = np.linalg.norm(kh_qtt_full - kh_extrap) * np.sqrt(h)\n",
    "            res[(d+2, tau, eps, 'h1')] = np.linalg.norm(kh - kh_extrap) * np.sqrt(h) \n",
    "            res[(d+2, tau, eps, 'l2')] = np.linalg.norm(solh - sol_extrap) * np.sqrt(h) \n",
    "                                   \n",
    "            \n",
    "np.savez('computations_diffusion', res=res, dall=dall[2:], eps_all=eps_all, tau_all=tau_all)"
   ]
  },
  {
   "cell_type": "markdown",
   "metadata": {},
   "source": [
    "## Figures\n",
    "\n",
    "Figures can be found [here](plots_diffusion.ipynb)."
   ]
  },
  {
   "cell_type": "markdown",
   "metadata": {},
   "source": [
    "## 1D Helmholtz \n",
    "\n",
    "As the second example, we consider  the one-dimensional Helmholtz problem with radiation boundary conditions:\n",
    "$$-u''  - k^2 u = 1, \\quad u(0) = 0, \\quad u'(1) - i k u(1) = 0.$$"
   ]
  },
  {
   "cell_type": "code",
   "execution_count": null,
   "metadata": {
    "collapsed": false
   },
   "outputs": [],
   "source": [
    "#Generate the tridiagonal sparse matrix\n",
    "import numpy as np\n",
    "import scipy.linalg\n",
    "from scipy import interpolate\n",
    "\n",
    "def gen_helmholtz_matrix(d, K, a=0.0, b=1.0):\n",
    "    N = 2 ** d\n",
    "    t = np.linspace(a, b, N+1) #Left point ommited\n",
    "    h = 1. / N\n",
    "    ap = -np.ones(N) / h ** 2 - K**2 / 6\n",
    "    am = -np.ones(N) / h ** 2 - K**2 / 6\n",
    "    dg = 2 * np.ones(N, dtype=np.complex128)/h**2 - (K**2)*2./3\n",
    "    dg[0] = 2./h**2 - (K**2) * 1./3 \n",
    "    dg[N-1] = 1.0 / h**2 - (K**2)/3 - 1j*K / h  #Radiation b.c.\n",
    "    mat = scipy.sparse.spdiags([am, ap, dg], [1, -1, 0], N, N).tocsc()\n",
    "    return mat\n",
    "\n",
    "\n",
    "def rhs_fun(x):\n",
    "    res = np.zeros(x.shape, dtype=np.complex128)\n",
    "    res[0] = 1.\n",
    "    return res #np.ones(x.shape, dtype=np.complex128)\n",
    "\n",
    "def solution_fun(x, k):\n",
    "    return (1j/k) * (1.-np.exp(1j*k)/2) * np.exp(1j*k*x) - 1j*(np.exp(1j*k)/(2*k)) * np.exp(-1j*k*x)\n",
    "\n",
    "def trig_squared_integral(c1, c2, c3, x, k): #integrates (c1 cos kx + c2 sin kx + c3)^2\n",
    "    return c1**2 * (x/2 + np.sin(2*k*x)/(4*k)) + c2**2 * (x/2 - np.sin(2*k*x)/(4*k)) + c3**2*x - \\\n",
    "           c1*c2*np.cos(2*k*x)/(2*k) + 2*c1*c3*np.sin(k*x)/k - 2*c2*c3*np.cos(k*x)/k \n",
    "    \n",
    "def h1_norm_func2(kh, h, k, N):\n",
    "    c1 = 1.0j/k * (1 - np.exp(1j*k)/2)\n",
    "    c2 = -1.0j*np.exp(1j*k)/(2*k)\n",
    "    res = trig_squared_integral(c1.real+c2.real, -c1.imag+c2.imag, -kh.real, h*np.arange(1, N), k) - \\\n",
    "          trig_squared_integral(c1.real+c2.real, -c1.imag+c2.imag, -kh.real, h*np.arange(0, N-1), k) + \\\n",
    "          trig_squared_integral(c1.imag+c2.imag, c1.real-c2.real, -kh.imag, h*np.arange(1, N), k) - \\\n",
    "          trig_squared_integral(c1.imag+c2.imag, c1.real-c2.real, -kh.imag, h*np.arange(0, N-1), k)\n",
    "    return np.sqrt(res.sum())"
   ]
  },
  {
   "cell_type": "markdown",
   "metadata": {},
   "source": [
    "### Massive experiments"
   ]
  },
  {
   "cell_type": "code",
   "execution_count": null,
   "metadata": {
    "collapsed": false
   },
   "outputs": [],
   "source": [
    "dall = [7, 8, 9, 10, 11, 12, 13, 14, 15, 16, 17, 18, 19, 20]\n",
    "K_all = [1., 5., 10., 50., 100., 500.,  1000., 5000., 10000.]\n",
    "tau_all = 10 ** (-np.linspace(1, 11, 101))\n",
    "\n",
    "res = {}\n",
    "for K in K_all:\n",
    "    print 'k =', K\n",
    "    dims = []\n",
    "    sols = []\n",
    "    sols_interp = []\n",
    "    h_all = []\n",
    "    meshes = []\n",
    "    matrs = []\n",
    "\n",
    "    for d in dall:\n",
    "        i = d - dall[0]\n",
    "        dims.append(d)\n",
    "        N = 2 ** d\n",
    "        h = 1.0/(N)\n",
    "        h_all.append(h)\n",
    "        mat = gen_helmholtz_matrix(d, K, a=0.0, b=1.0)\n",
    "        meshes.append(np.linspace(0, 1, N+1))\n",
    "        rhs = np.ones(N, dtype=np.complex128)\n",
    "        result = np.zeros(N+1, dtype=np.complex128)\n",
    "        result[1:] = sp.sparse.linalg.spsolve(mat, rhs)\n",
    "        sols.append(result)\n",
    "\n",
    "    for d in dall[:-2]:\n",
    "        i = d - dall[0]\n",
    "        h = h_all[i+2]   \n",
    "        solh = sols[i+2]\n",
    "        sol2h = np.zeros(sols[i+2].shape, dtype=np.complex128)\n",
    "        sol2h[::2] = sols[i+1]\n",
    "        sol2h[1::2] = (sols[i+1][:-1] + sols[i+1][1:])/2\n",
    "        kh = (sols[i+2][1:] - sols[i+2][:-1]) / h\n",
    "        \n",
    "        for tau in tau_all:\n",
    "            solh_qtt_full = np.zeros(len(solh), dtype=np.complex128)\n",
    "            solh_qtt = tt.tensor(solh[1:].reshape(2*np.ones(d+2), order='F'), tau)\n",
    "            solh_qtt_full[1:] = solh_qtt.full().flatten('F')\n",
    "            kh_qtt_full = (solh_qtt_full[1:] - solh_qtt_full[:-1]) / h\n",
    "            res[(d+2, tau, K, 'memory')] = len(solh_qtt.core)\n",
    "            res[(d+2, tau, K, 'h1_qtt')] = h1_norm_func2(kh_qtt_full, h, K, 2**(d+2)+1)\n",
    "            res[(d+2, tau, K, 'h1')] = h1_norm_func2(kh, h, K, 2**(d+2)+1)\n",
    "            res[(d+2, tau, K, 'l2')] = np.linalg.norm(solh - sol_extrap) * np.sqrt(h) \n",
    "            res[(d+2, tau, K, 'erank')] = solh_qtt.erank\n",
    "                                   \n",
    "            \n",
    "np.savez('computations_helmholtz', res=res, dall=dall[2:], K_all=K_all, tau_all=tau_all)"
   ]
  },
  {
   "cell_type": "markdown",
   "metadata": {},
   "source": [
    "## Figures\n",
    "\n",
    "Figures can be found [here](plots_helmholtz.ipynb)."
   ]
  }
 ],
 "metadata": {
  "kernelspec": {
   "display_name": "Python 2",
   "language": "python",
   "name": "python2"
  },
  "language_info": {
   "codemirror_mode": {
    "name": "ipython",
    "version": 2
   },
   "file_extension": ".py",
   "mimetype": "text/x-python",
   "name": "python",
   "nbconvert_exporter": "python",
   "pygments_lexer": "ipython2",
   "version": "2.7.10"
  }
 },
 "nbformat": 4,
 "nbformat_minor": 0
}
