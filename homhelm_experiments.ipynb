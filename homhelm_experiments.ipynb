{
 "cells": [
  {
   "cell_type": "markdown",
   "metadata": {},
   "source": [
    "## Diffusion equation\n",
    "Example is taken from \n",
    "[Schwab/Hoang paper](ftp://ftp.math.ethz.ch/hg/pub/sam-reports/reports/reports2003/2003-14.pdf)\n",
    "\n",
    "$$K(x) = K_0(x) K_1(\\frac{x}{\\varepsilon}),$$\n",
    "\n",
    "where $K_0 = 1 + x$, $K_1 = 2/3 (1 + \\cos^2(2 \\pi \\frac{x}{\\varepsilon}))$"
   ]
  },
  {
   "cell_type": "code",
   "execution_count": 2,
   "metadata": {
    "collapsed": false
   },
   "outputs": [],
   "source": [
    "%matplotlib inline\n",
    "import matplotlib.pyplot as plt\n",
    "import scipy.sparse.linalg\n",
    "import scipy as sp\n",
    "import scipy.interpolate\n",
    "import math\n",
    "import numpy as np\n",
    "import tt\n",
    "\n",
    "def Kfun(x, eps):\n",
    "    #return np.ones(x.shape)\n",
    "    return (1 + np.sqrt(x)) * 2/3 * (1 + np.cos(2 * math.pi * (x/eps)) ** 2)\n",
    "\n",
    "def rhs_fun(x):\n",
    "    return np.ones(x.shape)\n",
    "    #return (1 + np.sqrt(np.abs(x-0.5)))\n",
    "    #n = x.shape[0]\n",
    "    #res = np.zeros(n)\n",
    "    #res[n/2] = n\n",
    "    #return res\n",
    "\n",
    "def derivative(arr, fun, h):\n",
    "    N = arr.shape[0]\n",
    "    res = np.zeros(N)\n",
    "    res[1:-1] = (arr[2:] - arr[:-2])/(2*h)\n",
    "    res[0] = (arr[1] - 0.)/(2*h)\n",
    "    res[-1] = (0. - arr[-2])/(2*h)\n",
    "    mesh = np.linspace(0, 1, N + 2)[1:-1]\n",
    "    return res #* fun(mesh)\n",
    "\n",
    "def gen_full_matrix_new(d, eps, Kfun, a=0.0, b=1.0): \n",
    "    N = 2 ** d - 1\n",
    "    t = np.arange(N)\n",
    "    e = np.ones(N)\n",
    "    h = (b - a)/(N + 1)\n",
    "    cf = (t + 0.5 * e) * h\n",
    "    am = Kfun(cf, eps)\n",
    "    cf_plus = (t + 1.5 * e) * h\n",
    "    ap = Kfun(cf_plus, eps)\n",
    "    dg = am + ap\n",
    "    dg = np.concatenate(([h**2], dg))\n",
    "    am = np.concatenate((am, [0]))\n",
    "    ap = np.concatenate(([0, 0], ap[:-1]))\n",
    "    mat = scipy.sparse.spdiags([-am, -ap, dg], [-1, 1, 0], N+1, N+1, format='csr')\n",
    "    mat = mat/h**2\n",
    "    return mat\n",
    "\n",
    "#print gen_full_matrix_new(2, 1e-2, Kfun, a=0.0, b=1.0).todense()\n",
    "#print Kfun(0.5/2**3, 1e-2)*2**6"
   ]
  },
  {
   "cell_type": "markdown",
   "metadata": {},
   "source": [
    "### Test"
   ]
  },
  {
   "cell_type": "code",
   "execution_count": 86,
   "metadata": {
    "collapsed": false
   },
   "outputs": [
    {
     "name": "stdout",
     "output_type": "stream",
     "text": [
      "0.243774511755\n"
     ]
    },
    {
     "data": {
      "text/plain": [
       "[<matplotlib.lines.Line2D at 0x117133cd0>]"
      ]
     },
     "execution_count": 86,
     "metadata": {},
     "output_type": "execute_result"
    },
    {
     "data": {
      "image/png": "[encoded data removed]",
      "text/plain": [
       "<matplotlib.figure.Figure at 0x111e34cd0>"
      ]
     },
     "metadata": {},
     "output_type": "display_data"
    }
   ],
   "source": [
    "eps = 1e-2\n",
    "\n",
    "d = 10\n",
    "N = 2 ** d\n",
    "h = 1.0 / (N)\n",
    "x = np.linspace(0, 1, N+1)[:-1]\n",
    "rhs = np.pi**2 * np.sin(np.pi * x)\n",
    "mat = gen_full_matrix_new(d, eps, Kfun, a=0.0, b=1.0)\n",
    "sol_exact = np.sin(np.pi * x)\n",
    "sol = sp.sparse.linalg.spsolve(mat, rhs)\n",
    "print np.linalg.norm(sol - sol_exact)*np.sqrt(h)\n",
    "plt.plot(sol)\n",
    "plt.plot(sol_exact)"
   ]
  },
  {
   "cell_type": "code",
   "execution_count": 87,
   "metadata": {
    "collapsed": false
   },
   "outputs": [
    {
     "name": "stdout",
     "output_type": "stream",
     "text": [
      "0.86382906155\n"
     ]
    }
   ],
   "source": [
    "x = np.linspace(0, 1, N + 1)\n",
    "res = np.zeros(N+1)\n",
    "sol2 = sol\n",
    "for i in xrange(1, N):\n",
    "    k = (sol2[i] - sol2[i-1])/h\n",
    "    res[i] = h * k**2 - 2*k * (np.sin(np.pi * x[i]) - np.sin(np.pi * x[i-1])) + np.pi**2*h/2 + np.pi/(4) * \\\n",
    "                              (np.sin(2 * np.pi * x[i]) - np.sin(2 * np.pi * x[i-1]))\n",
    "#print res\n",
    "print np.sqrt(res.sum())"
   ]
  },
  {
   "cell_type": "code",
   "execution_count": 88,
   "metadata": {
    "collapsed": false
   },
   "outputs": [],
   "source": [
    "eps = 1e-3\n",
    "dmin = 5\n",
    "dmax = 21\n",
    "dd = dmax - dmin\n",
    "dims = []\n",
    "sols = []\n",
    "sols_interp = []\n",
    "ders = []\n",
    "ders_interp = []\n",
    "h_all = []\n",
    "meshes = []\n",
    "matrs = []\n",
    "\n",
    "for i in range(dd):\n",
    "    d = dmin + i\n",
    "    dims.append(d)\n",
    "    N = 2 ** d\n",
    "    h = 1.0/(N)\n",
    "    h_all.append(h)\n",
    "    mat = gen_full_matrix_new(d, eps, Kfun, a=0.0, b=1.0)\n",
    "    matrs.append(mat)\n",
    "    meshes.append(np.linspace(0, 1, N+1))\n",
    "    rhs = rhs_fun(meshes[i][:-1])\n",
    "    res = np.zeros(N + 1)\n",
    "    res[:-1] = sp.sparse.linalg.spsolve(mat, rhs)\n",
    "    sols.append(res)"
   ]
  },
  {
   "cell_type": "code",
   "execution_count": 89,
   "metadata": {
    "collapsed": true
   },
   "outputs": [],
   "source": [
    "dall = [7, 8, 9, 10, 11, 12, 13, 14, 15, 16, 17, 18, 19, 20]\n",
    "eps_all = [1e-0, 1e-1, 1e-2, 1e-3, 1e-4, 1e-5]\n",
    "tau_all = [1e-1, 1e-2, 1e-3, 1e-4, 1e-5]"
   ]
  },
  {
   "cell_type": "markdown",
   "metadata": {},
   "source": [
    "### Massive tests"
   ]
  },
  {
   "cell_type": "code",
   "execution_count": 90,
   "metadata": {
    "collapsed": false,
    "scrolled": true
   },
   "outputs": [
    {
     "name": "stdout",
     "output_type": "stream",
     "text": [
      "0.1\n",
      "0.0837677640068\n",
      "0.070170382867\n",
      "0.0587801607227\n",
      "0.0492388263171\n",
      "0.041246263829\n",
      "0.0345510729459\n",
      "0.0289426612472\n",
      "0.0242446201708\n",
      "0.020309176209\n",
      "0.0170125427985\n",
      "0.014251026703\n",
      "0.0119377664171\n",
      "0.01\n",
      "0.00837677640068\n",
      "0.0070170382867\n",
      "0.00587801607227\n",
      "0.00492388263171\n",
      "0.0041246263829\n",
      "0.00345510729459\n",
      "0.00289426612472\n",
      "0.00242446201708\n",
      "0.0020309176209\n",
      "0.00170125427985\n",
      "0.0014251026703\n",
      "0.00119377664171\n",
      "0.001\n",
      "0.000837677640068\n",
      "0.00070170382867\n",
      "0.000587801607227\n",
      "0.000492388263171\n",
      "0.00041246263829\n",
      "0.000345510729459\n",
      "0.000289426612472\n",
      "0.000242446201708\n",
      "0.00020309176209\n",
      "0.000170125427985\n",
      "0.00014251026703\n",
      "0.000119377664171\n",
      "0.0001\n",
      "8.37677640068e-05\n",
      "7.0170382867e-05\n",
      "5.87801607227e-05\n",
      "4.92388263171e-05\n",
      "4.1246263829e-05\n",
      "3.45510729459e-05\n",
      "2.89426612472e-05\n",
      "2.42446201708e-05\n",
      "2.0309176209e-05\n",
      "1.70125427985e-05\n",
      "1.4251026703e-05\n",
      "1.19377664171e-05\n",
      "1e-05\n"
     ]
    }
   ],
   "source": [
    "dall = [7, 8, 9, 10, 11, 12, 13, 14, 15, 16, 17, 18, 19, 20]\n",
    "eps_all = 10 ** (-np.linspace(1, 5, 53)) #[1e-0, 1e-1, 1e-2, 1e-3, 1e-4, 1e-5]\n",
    "tau_all = 10 ** (-np.linspace(1, 11, 101))\n",
    "# tau_all = [1e-1, 1e-2, 1e-3, 1e-4, 1e-5, 1e-6, 1e-7, 1e-8, 1e-9, 1e-10, 1e-11]\n",
    "\n",
    "res = {}\n",
    "for eps in eps_all:\n",
    "    print eps\n",
    "    dims = []\n",
    "    sols = []\n",
    "    sols_interp = []\n",
    "    h_all = []\n",
    "    meshes = []\n",
    "    matrs = []\n",
    "\n",
    "    for d in dall:\n",
    "        i = d - dall[0]\n",
    "        dims.append(d)\n",
    "        N = 2 ** d\n",
    "        h = 1.0/(N)\n",
    "        h_all.append(h)\n",
    "        mat = gen_full_matrix_new(d, eps, Kfun, a=0.0, b=1.0)\n",
    "        meshes.append(np.linspace(0, 1, N+1))\n",
    "        rhs = rhs_fun(meshes[i][:-1])\n",
    "        result = np.zeros(N + 1)\n",
    "        result[:-1] = sp.sparse.linalg.spsolve(mat, rhs)\n",
    "        sols.append(result)\n",
    "\n",
    "    for d in dall[:-2]:\n",
    "        i = d - dall[0]\n",
    "        h = h_all[i+2]\n",
    "\n",
    "        solh = sols[i+2]\n",
    "        sol2h = np.zeros(sols[i+2].shape)\n",
    "        sol2h[::2] = sols[i+1]\n",
    "        sol2h[1::2] = (sols[i+1][:-1] + sols[i+1][1:])/2\n",
    "        sol_extrap = solh + (solh - sol2h) / (2.0**2 + 1)\n",
    "\n",
    "        kh = (sols[i+2][1:] - sols[i+2][:-1]) / h\n",
    "        kh_extrap = (sol_extrap[1:] - sol_extrap[:-1])/h\n",
    "        for tau in tau_all:\n",
    "            #kh_qtt = tt.tensor(kh.reshape(2*np.ones(d+2), order='F'), tau)\n",
    "            #kh_qtt_full = kh_qtt.full().flatten('F')\n",
    "            solh_qtt_full = np.zeros(len(solh))\n",
    "            solh_qtt = tt.tensor(solh[:-1].reshape(2*np.ones(d+2), order='F'), tau)\n",
    "            solh_qtt_full[:-1] = solh_qtt.full().flatten('F')\n",
    "            kh_qtt_full = (solh_qtt_full[1:] - solh_qtt_full[:-1]) / h\n",
    "            res[(d+2, tau, eps, 'memory')] = len(solh_qtt.core)\n",
    "            res[(d+2, tau, eps, 'h1_qtt')] = np.linalg.norm(kh_qtt_full - kh_extrap) * np.sqrt(h)\n",
    "            res[(d+2, tau, eps, 'h1')] = np.linalg.norm(kh - kh_extrap) * np.sqrt(h) \n",
    "            res[(d+2, tau, eps, 'l2')] = np.linalg.norm(solh - sol_extrap) * np.sqrt(h) \n",
    "                                   \n",
    "            \n",
    "np.savez('computations_diffusion', res=res, dall=dall[2:], eps_all=eps_all, tau_all=tau_all)"
   ]
  },
  {
   "cell_type": "code",
   "execution_count": 49,
   "metadata": {
    "collapsed": false
   },
   "outputs": [
    {
     "data": {
      "text/plain": [
       "array([ 0. ,  0.5,  1. ,  1.5,  2. ,  2.5,  3. ])"
      ]
     },
     "execution_count": 49,
     "metadata": {},
     "output_type": "execute_result"
    }
   ],
   "source": [
    "np.linspace(0,3,7)"
   ]
  },
  {
   "cell_type": "code",
   "execution_count": 20,
   "metadata": {
    "collapsed": false
   },
   "outputs": [
    {
     "name": "stdout",
     "output_type": "stream",
     "text": [
      "0.0472076898419\n",
      "0.0217206046585\n",
      "0.0968170711514\n",
      "0.0673785638083\n",
      "0.0368180914148\n",
      "0.0957612863147\n",
      "0.0642874294344\n",
      "0.0920330681617\n",
      "0.0810764789931\n",
      "0.0469422897073\n",
      "0.0243952141653\n",
      "0.0123179259477\n",
      "0.00617416234145\n",
      "0.00308898615632\n"
     ]
    }
   ],
   "source": [
    "order_sol = []\n",
    "order_der = []\n",
    "h1_norm = []\n",
    "l2_norm = []\n",
    "tau = 1e-10\n",
    "for i in range(dd-2):\n",
    "    d = i + dmin\n",
    "    h = h_all[i+2]\n",
    "    kh = (sols[i+2][1:] - sols[i+2][:-1]) / h\n",
    "    k2h = (sols[i+1][1:] - sols[i+1][:-1]) / (2*h)\n",
    "    k2h = np.repeat(k2h, 2)\n",
    "    h1_norm.append(np.sqrt(((kh - k2h)**2 ).sum())/np.linalg.norm(kh))\n",
    "    \n",
    "    solh = sols[i+2]\n",
    "    sol2h = np.zeros(sols[i+2].shape)\n",
    "    sol2h[::2] = sols[i+1]\n",
    "    sol2h[1::2] = (sols[i+1][:-1] + sols[i+1][1:])/2\n",
    "    l2_norm.append(np.sqrt(((solh - sol2h)**2 * h).sum()))\n",
    "    \n",
    "    #order = np.linalg.norm(sol2h - sol4h) / np.linalg.norm(solh - sol2h)\n",
    "    #order = np.log2(order)\n",
    "    sol_extrap = solh + (solh - sol2h) / (2**2 + 1)\n",
    "    k_extrap = (sol_extrap[1:] - sol_extrap[:-1])/h\n",
    "    print np.linalg.norm((k_extrap - kh))*np.sqrt(h)\n",
    "    sol_qtt = tt.tensor(solh[:-1].reshape(2*np.ones(i+2+dmin), order='F'), tau)\n",
    "    #print sol_qtt.erank\n",
    "    sol_qtt = sol_qtt.full().flatten('F')\n",
    "    #print np.linalg.norm(sol_extrap[:-1] - sol_qtt)/np.linalg.norm(sol_extrap[:-1])\n",
    "    \n",
    "h1_norm = np.array(h1_norm)\n",
    "l2_norm = np.array(l2_norm)\n",
    "#print h1_norm\n",
    "#print np.log2(h1_norm[:-1]/h1_norm[1:])\n",
    "#print np.log2(l2_norm[:-1]/l2_norm[1:])"
   ]
  },
  {
   "cell_type": "markdown",
   "metadata": {},
   "source": [
    "## 1D Helmholtz "
   ]
  },
  {
   "cell_type": "code",
   "execution_count": 301,
   "metadata": {
    "collapsed": false
   },
   "outputs": [
    {
     "name": "stdout",
     "output_type": "stream",
     "text": [
      "The line_profiler extension is already loaded. To reload it, use:\n",
      "  %reload_ext line_profiler\n"
     ]
    }
   ],
   "source": [
    "#Generate the tridiagonal sparse matrix\n",
    "import numpy as np\n",
    "import scipy.linalg\n",
    "from scipy import interpolate\n",
    "\n",
    "def gen_helmholtz_matrix(d, K, a=0.0, b=1.0):\n",
    "    N = 2 ** d\n",
    "    t = np.linspace(a, b, N+1) #Left point ommited\n",
    "    h = 1. / N\n",
    "    ap = -np.ones(N) / h ** 2 - K**2 / 6\n",
    "    am = -np.ones(N) / h ** 2 - K**2 / 6\n",
    "    dg = 2 * np.ones(N, dtype=np.complex128)/h**2 - (K**2)*2./3\n",
    "    dg[0] = 2./h**2 - (K**2) * 1./3 \n",
    "    dg[N-1] = 1.0 / h**2 - (K**2)/3 - 1j*K / h  #Radiation b.c.\n",
    "    mat = scipy.sparse.spdiags([am, ap, dg], [1, -1, 0], N, N).tocsc()\n",
    "    return mat\n",
    "\n",
    "def h1_norm_func(kh, h, K, N):\n",
    "    h1_real = (h * kh.real**2 - 2*kh.real*(np.cos(K*h*np.arange(1, N)) - np.cos(K*h*np.arange(0, N-1))) + K**2*h/2 -\n",
    "        K/4 * (np.sin(2*K*h*np.arange(1, N)) - np.sin(2*K*h*np.arange(0, N-1)))).sum()\n",
    "    h1_imag = (h * kh.imag**2 - 2*kh.imag*(np.sin(K*h*np.arange(1, N)) - np.sin(K*h*np.arange(0, N-1))) + K**2*h/2 +\n",
    "        K/4 * (np.sin(2*K*h*np.arange(1, N)) - np.sin(2*K*h*np.arange(0, N-1)))).sum()\n",
    "    return np.sqrt((h1_imag + h1_real)/2)\n",
    "\n",
    "def rhs_fun(x):\n",
    "    res = np.zeros(x.shape, dtype=np.complex128)\n",
    "    res[0] = 1.\n",
    "    return res #np.ones(x.shape, dtype=np.complex128)\n",
    "\n",
    "def solution_fun(x, k):\n",
    "    return (1j/k) * (1.-np.exp(1j*k)/2) * np.exp(1j*k*x) - 1j*(np.exp(1j*k)/(2*k)) * np.exp(-1j*k*x)\n",
    "%load_ext line_profiler\n",
    "from numba import jit\n",
    "def h1_error_fun(kh, h, k, num_int=30):\n",
    "    err = 0.\n",
    "    grid_int = np.linspace(0, h, num_int)\n",
    "    step_int = (grid_int[1] - grid_int[0])\n",
    "    c1 = (1j/k) * (1.-np.exp(1j*k)/2) * np.exp(1j*k*grid_int)\n",
    "    c2 = 1j*(np.exp(1j*k)/(2*k)) * np.exp(-1j*k*grid_int)\n",
    "    for i in xrange(len(kh)):\n",
    "        #grid_int += h\n",
    "        delta = kh[i] - c1 * np.exp(1j*k*h*i) + c2 * np.exp(-1j*k*h*i)\n",
    "        err += np.sum(np.abs(delta)**2) * step_int\n",
    "    return np.sqrt(err)\n",
    "\n",
    "def trig_squared_integral(c1, c2, c3, x, k): #integrates (c1 cos kx + c2 sin kx + c3)^2\n",
    "    return c1**2 * (x/2 + np.sin(2*k*x)/(4*k)) + c2**2 * (x/2 - np.sin(2*k*x)/(4*k)) + c3**2*x - \\\n",
    "           c1*c2*np.cos(2*k*x)/(2*k) + 2*c1*c3*np.sin(k*x)/k - 2*c2*c3*np.cos(k*x)/k \n",
    "    \n",
    "def h1_norm_func2(kh, h, k, N):\n",
    "    c1 = 1.0j/k * (1 - np.exp(1j*k)/2)\n",
    "    c2 = -1.0j*np.exp(1j*k)/(2*k)\n",
    "    res = trig_squared_integral(c1.real+c2.real, -c1.imag+c2.imag, -kh.real, h*np.arange(1, N), k) - \\\n",
    "          trig_squared_integral(c1.real+c2.real, -c1.imag+c2.imag, -kh.real, h*np.arange(0, N-1), k) + \\\n",
    "          trig_squared_integral(c1.imag+c2.imag, c1.real-c2.real, -kh.imag, h*np.arange(1, N), k) - \\\n",
    "          trig_squared_integral(c1.imag+c2.imag, c1.real-c2.real, -kh.imag, h*np.arange(0, N-1), k)\n",
    "    return np.sqrt(res.sum())"
   ]
  },
  {
   "cell_type": "markdown",
   "metadata": {},
   "source": [
    "### Helmholtz test"
   ]
  },
  {
   "cell_type": "code",
   "execution_count": 304,
   "metadata": {
    "collapsed": false
   },
   "outputs": [
    {
     "name": "stdout",
     "output_type": "stream",
     "text": [
      "6.67504001974e-05\n",
      "0.706395305502\n"
     ]
    },
    {
     "data": {
      "text/plain": [
       "[<matplotlib.lines.Line2D at 0x123558c10>]"
      ]
     },
     "execution_count": 304,
     "metadata": {},
     "output_type": "execute_result"
    },
    {
     "data": {
      "image/png": "[encoded data removed]",
      "text/plain": [
       "<matplotlib.figure.Figure at 0x123558d90>"
      ]
     },
     "metadata": {},
     "output_type": "display_data"
    }
   ],
   "source": [
    "d = 14\n",
    "N = 2 ** d\n",
    "h = 1. / N\n",
    "f = np.ones(N, dtype=np.complex128)\n",
    "#f[0] = 1.0 / h**2\n",
    "K = 1.\n",
    "a = gen_helmholtz_matrix(d, K)\n",
    "grid = np.linspace(0, 1, N+1)\n",
    "sol_exact = np.exp(1j * K * grid[1:])\n",
    "sol_num = sp.sparse.linalg.spsolve(a, f)\n",
    "\n",
    "kh = (sol_num[1:] - sol_num[:-1]) / h\n",
    "print h1_norm_func2(kh, h, K, N)\n",
    "#%lprun -f h1_error_fun h1_error_fun(kh, h, K, num_int=100) #h1_norm_func(kh, h, K, N)\n",
    "\n",
    "print np.linalg.norm(sol_exact - sol_num) * np.sqrt(h)\n",
    "plt.plot(np.real(sol_num))\n",
    "plt.plot(np.real(sol_num))"
   ]
  },
  {
   "cell_type": "code",
   "execution_count": 256,
   "metadata": {
    "collapsed": false
   },
   "outputs": [
    {
     "data": {
      "text/plain": [
       "0.0"
      ]
     },
     "execution_count": 256,
     "metadata": {},
     "output_type": "execute_result"
    }
   ],
   "source": []
  },
  {
   "cell_type": "code",
   "execution_count": 252,
   "metadata": {
    "collapsed": false
   },
   "outputs": [
    {
     "name": "stdout",
     "output_type": "stream",
     "text": [
      "0.823044734355\n",
      "1.20365413569\n"
     ]
    },
    {
     "data": {
      "text/plain": [
       "[<matplotlib.lines.Line2D at 0x11fd086d0>]"
      ]
     },
     "execution_count": 252,
     "metadata": {},
     "output_type": "execute_result"
    },
    {
     "data": {
      "image/png": "[encoded data removed]",
      "text/plain": [
       "<matplotlib.figure.Figure at 0x17e8fbdd0>"
      ]
     },
     "metadata": {},
     "output_type": "display_data"
    }
   ],
   "source": [
    "d = 13\n",
    "N = 2 ** d\n",
    "h = 1. / N\n",
    "f = np.zeros(N, dtype=np.complex128)\n",
    "f[0] = 1.0 / h**2\n",
    "K = 10000.\n",
    "a = gen_helmholtz_matrix(d, K)\n",
    "grid = np.linspace(0, 1, N+1)\n",
    "sol_exact = np.exp(1j * K * grid[1:])\n",
    "sol_num = sp.sparse.linalg.spsolve(a, f)\n",
    "\n",
    "kh = (sol_num[1:] - sol_num[:-1]) / h\n",
    "#interp = interpolate.interp1d(grid[:-1], kh, kind='zero')\n",
    "\n",
    "\n",
    "print  h1_norm_func(kh, h, K, N) / (K)\n",
    "\n",
    "print np.linalg.norm(sol_exact - sol_num) * np.sqrt(h)\n",
    "#plt.plot(np.real(sol_num))\n",
    "#plt.plot(np.real(sol_num))\n",
    "plt.plot(kh.real)\n",
    "plt.plot(-K*np.sin(K*grid))"
   ]
  },
  {
   "cell_type": "code",
   "execution_count": 16,
   "metadata": {
    "collapsed": false
   },
   "outputs": [
    {
     "name": "stderr",
     "output_type": "stream",
     "text": [
      "/Applications/anaconda/lib/python2.7/site-packages/IPython/kernel/__main__.py:2: RuntimeWarning: invalid value encountered in arcsin\n",
      "  from IPython.kernel.zmq import kernelapp as app\n"
     ]
    }
   ],
   "source": [
    "for i in xrange(2**20):\n",
    "    np.arcsin(np.arange(10))"
   ]
  },
  {
   "cell_type": "code",
   "execution_count": 163,
   "metadata": {
    "collapsed": false
   },
   "outputs": [
    {
     "data": {
      "text/plain": [
       "array([ -286.02250304,  -476.57237695,  -666.94888536, ...,  1110.071985  ,\n",
       "        1299.37104026,  1488.19741575])"
      ]
     },
     "execution_count": 163,
     "metadata": {},
     "output_type": "execute_result"
    }
   ],
   "source": [
    "kh.real"
   ]
  },
  {
   "cell_type": "code",
   "execution_count": 125,
   "metadata": {
    "collapsed": false
   },
   "outputs": [
    {
     "data": {
      "text/plain": [
       "209.7152"
      ]
     },
     "execution_count": 125,
     "metadata": {},
     "output_type": "execute_result"
    }
   ],
   "source": [
    "2./h / K"
   ]
  },
  {
   "cell_type": "markdown",
   "metadata": {},
   "source": [
    "## Massive experiments"
   ]
  },
  {
   "cell_type": "code",
   "execution_count": 137,
   "metadata": {
    "collapsed": false
   },
   "outputs": [
    {
     "data": {
      "text/plain": [
       "array([  0.00000000e+00,   9.76562500e-04,   1.95312500e-03, ...,\n",
       "         9.98046875e-01,   9.99023438e-01,   1.00000000e+00])"
      ]
     },
     "execution_count": 137,
     "metadata": {},
     "output_type": "execute_result"
    }
   ],
   "source": [
    "x"
   ]
  },
  {
   "cell_type": "code",
   "execution_count": 158,
   "metadata": {
    "collapsed": false
   },
   "outputs": [
    {
     "ename": "TypeError",
     "evalue": "'module' object is not callable",
     "output_type": "error",
     "traceback": [
      "\u001b[0;31m---------------------------------------------------------------------------\u001b[0m",
      "\u001b[0;31mTypeError\u001b[0m                                 Traceback (most recent call last)",
      "\u001b[0;32m<ipython-input-158-67cb9f4fc7c3>\u001b[0m in \u001b[0;36m<module>\u001b[0;34m()\u001b[0m\n\u001b[1;32m      2\u001b[0m \u001b[0;32mfrom\u001b[0m \u001b[0msympy\u001b[0m\u001b[0;34m.\u001b[0m\u001b[0mabc\u001b[0m \u001b[0;32mimport\u001b[0m \u001b[0ma\u001b[0m\u001b[0;34m,\u001b[0m \u001b[0mx\u001b[0m\u001b[0;34m,\u001b[0m \u001b[0my\u001b[0m\u001b[0;34m\u001b[0m\u001b[0m\n\u001b[1;32m      3\u001b[0m \u001b[0;32mimport\u001b[0m \u001b[0msympy\u001b[0m\u001b[0;34m\u001b[0m\u001b[0m\n\u001b[0;32m----> 4\u001b[0;31m \u001b[0mvar\u001b[0m \u001b[0;34m=\u001b[0m \u001b[0msympy\u001b[0m\u001b[0;34m.\u001b[0m\u001b[0msymbol\u001b[0m\u001b[0;34m(\u001b[0m\u001b[0;34m'x'\u001b[0m\u001b[0;34m)\u001b[0m\u001b[0;34m\u001b[0m\u001b[0m\n\u001b[0m\u001b[1;32m      5\u001b[0m \u001b[0mres\u001b[0m \u001b[0;34m=\u001b[0m \u001b[0mspintegrate\u001b[0m\u001b[0;34m(\u001b[0m\u001b[0;34m(\u001b[0m\u001b[0;36m1\u001b[0m \u001b[0;34m-\u001b[0m \u001b[0mx\u001b[0m\u001b[0;34m**\u001b[0m\u001b[0;36m2\u001b[0m\u001b[0;34m)\u001b[0m\u001b[0;34m**\u001b[0m\u001b[0;36m2\u001b[0m\u001b[0;34m,\u001b[0m \u001b[0;34m(\u001b[0m\u001b[0mx\u001b[0m\u001b[0;34m,\u001b[0m\u001b[0;36m0\u001b[0m\u001b[0;34m,\u001b[0m\u001b[0ma\u001b[0m\u001b[0;34m)\u001b[0m\u001b[0;34m)\u001b[0m\u001b[0;34m\u001b[0m\u001b[0m\n\u001b[1;32m      6\u001b[0m \u001b[0;32mprint\u001b[0m \u001b[0mres\u001b[0m\u001b[0;34m\u001b[0m\u001b[0m\n",
      "\u001b[0;31mTypeError\u001b[0m: 'module' object is not callable"
     ]
    }
   ],
   "source": [
    "from sympy import integrate as spintegrate\n",
    "from sympy.abc import a, x, y\n",
    "import sympy\n",
    "res = spintegrate((1 - x**2)**2, (x,0,a))\n",
    "print res"
   ]
  },
  {
   "cell_type": "code",
   "execution_count": 155,
   "metadata": {
    "collapsed": false
   },
   "outputs": [
    {
     "data": {
      "text/plain": [
       "1"
      ]
     },
     "execution_count": 155,
     "metadata": {},
     "output_type": "execute_result"
    }
   ],
   "source": [
    "res.func(1.)"
   ]
  },
  {
   "cell_type": "code",
   "execution_count": 308,
   "metadata": {
    "collapsed": false
   },
   "outputs": [
    {
     "name": "stdout",
     "output_type": "stream",
     "text": [
      "k = 1.0\n",
      "k = 5.0\n",
      "k = 10.0\n",
      "k = 50.0\n",
      "k = 100.0\n",
      "k = 500.0\n",
      "k = 1000.0\n",
      "k = 5000.0\n",
      "k = 10000.0\n"
     ]
    }
   ],
   "source": [
    "dall = [7, 8, 9, 10, 11, 12, 13, 14, 15, 16, 17, 18, 19, 20]\n",
    "K_all = [1., 5., 10., 50., 100., 500.,  1000., 5000., 10000.] #[1e-0, 1e-1, 1e-2, 1e-3, 1e-4, 1e-5]\n",
    "tau_all = 10 ** (-np.linspace(1, 11, 101))\n",
    "# tau_all = [1e-1, 1e-2, 1e-3, 1e-4, 1e-5, 1e-6, 1e-7, 1e-8, 1e-9, 1e-10, 1e-11]\n",
    "\n",
    "res = {}\n",
    "for K in K_all:\n",
    "    print 'k =', K\n",
    "    dims = []\n",
    "    sols = []\n",
    "    sols_interp = []\n",
    "    h_all = []\n",
    "    meshes = []\n",
    "    matrs = []\n",
    "    err_l2_temp = []\n",
    "\n",
    "    for d in dall:\n",
    "        i = d - dall[0]\n",
    "        dims.append(d)\n",
    "        N = 2 ** d\n",
    "        h = 1.0/(N)\n",
    "        h_all.append(h)\n",
    "        mat = gen_helmholtz_matrix(d, K, a=0.0, b=1.0)\n",
    "        meshes.append(np.linspace(0, 1, N+1))\n",
    "        rhs = np.ones(N, dtype=np.complex128)#rhs_fun(meshes[i][1:]) / h**2\n",
    "        result = np.zeros(N+1, dtype=np.complex128)\n",
    "        result[1:] = sp.sparse.linalg.spsolve(mat, rhs)\n",
    "        sols.append(result)\n",
    "        #kh = (result[2:] - result[1:-1])/h\n",
    "        #print h1_norm_func(kh, h, K, N)\n",
    "\n",
    "    for d in dall[:-2]:\n",
    "        i = d - dall[0]\n",
    "        h = h_all[i+2]\n",
    "        \n",
    "        solh = sols[i+2]\n",
    "        sol2h = np.zeros(sols[i+2].shape, dtype=np.complex128)\n",
    "        sol2h[::2] = sols[i+1]\n",
    "        sol2h[1::2] = (sols[i+1][:-1] + sols[i+1][1:])/2\n",
    "        err_l2_temp.append(np.linalg.norm(solh - sol2h) * np.sqrt(h))\n",
    "        try:\n",
    "            order = 2. #np.log2(err_l2_temp[i-1] / err_l2_temp[i])\n",
    "        except:\n",
    "            order = 2.\n",
    "        #print 'order = ', order\n",
    "        sol_extrap = solh + (solh - sol2h) / (2.0**order - 1)\n",
    "        kh = (sols[i+2][1:] - sols[i+2][:-1]) / h\n",
    "        kh_extrap = (sol_extrap[1:] - sol_extrap[:-1])/h\n",
    "        for tau in tau_all:\n",
    "            #kh_qtt = tt.tensor(kh.reshape(2*np.ones(d+2), order='F'), tau)\n",
    "            #kh_qtt_full = kh_qtt.full().flatten('F')\n",
    "            solh_qtt_full = np.zeros(len(solh), dtype=np.complex128)\n",
    "            solh_qtt = tt.tensor(solh[1:].reshape(2*np.ones(d+2), order='F'), tau)\n",
    "            solh_qtt_full[1:] = solh_qtt.full().flatten('F')\n",
    "            kh_qtt_full = (solh_qtt_full[1:] - solh_qtt_full[:-1]) / h\n",
    "            res[(d+2, tau, K, 'memory')] = len(solh_qtt.core)\n",
    "            res[(d+2, tau, K, 'h1_qtt')] = h1_norm_func2(kh_qtt_full, h, K, 2**(d+2)+1)# / K\n",
    "            res[(d+2, tau, K, 'h1')] = h1_norm_func2(kh, h, K, 2**(d+2)+1)# / K\n",
    "            res[(d+2, tau, K, 'l2')] = np.linalg.norm(solh - sol_extrap) * np.sqrt(h) \n",
    "            res[(d+2, tau, K, 'erank')] = solh_qtt.erank\n",
    "            #print res[(d+2, tau, K, 'h1')], res[(d+2, tau, K, 'h1_qtt')]\n",
    "            #print solh_qtt.erank\n",
    "            #print res[(d+2, tau, K, 'h1')], res[(d+2, tau, K, 'h1_qtt')]\n",
    "                                   \n",
    "            \n",
    "np.savez('computations_helmholtz', res=res, dall=dall[2:], K_all=K_all, tau_all=tau_all)"
   ]
  },
  {
   "cell_type": "code",
   "execution_count": 223,
   "metadata": {
    "collapsed": false
   },
   "outputs": [
    {
     "data": {
      "text/plain": [
       "[<matplotlib.lines.Line2D at 0x119dec950>]"
      ]
     },
     "execution_count": 223,
     "metadata": {},
     "output_type": "execute_result"
    },
    {
     "data": {
      "image/png": "[encoded data removed]",
      "text/plain": [
       "<matplotlib.figure.Figure at 0x17cc06dd0>"
      ]
     },
     "metadata": {},
     "output_type": "display_data"
    }
   ],
   "source": [
    "plt.plot(solh.imag)"
   ]
  },
  {
   "cell_type": "code",
   "execution_count": 81,
   "metadata": {
    "collapsed": false
   },
   "outputs": [
    {
     "data": {
      "text/plain": [
       "array([  0.00000000e+00+0.j,   3.05175781e-05+0.j,   6.10342249e-05+0.j,\n",
       "       ...,   5.00015256e-01+0.j,   5.00015258e-01+0.j,\n",
       "         5.00015259e-01+0.j])"
      ]
     },
     "execution_count": 81,
     "metadata": {},
     "output_type": "execute_result"
    }
   ],
   "source": [
    "solh"
   ]
  },
  {
   "cell_type": "code",
   "execution_count": 83,
   "metadata": {
    "collapsed": false
   },
   "outputs": [
    {
     "data": {
      "text/plain": [
       "array([  0.00000000e+00+0.j,  -1.06155150e-14+0.j,  -9.31343806e-10+0.j,\n",
       "       ...,  -1.52580913e-05+0.j,  -1.52580913e-05+0.j,\n",
       "        -1.52590226e-05+0.j])"
      ]
     },
     "execution_count": 83,
     "metadata": {},
     "output_type": "execute_result"
    }
   ],
   "source": [
    "solh - sol2h"
   ]
  },
  {
   "cell_type": "code",
   "execution_count": null,
   "metadata": {
    "collapsed": true
   },
   "outputs": [],
   "source": []
  }
 ],
 "metadata": {
  "kernelspec": {
   "display_name": "Python 2",
   "language": "python",
   "name": "python2"
  },
  "language_info": {
   "codemirror_mode": {
    "name": "ipython",
    "version": 2
   },
   "file_extension": ".py",
   "mimetype": "text/x-python",
   "name": "python",
   "nbconvert_exporter": "python",
   "pygments_lexer": "ipython2",
   "version": "2.7.10"
  }
 },
 "nbformat": 4,
 "nbformat_minor": 0
}
